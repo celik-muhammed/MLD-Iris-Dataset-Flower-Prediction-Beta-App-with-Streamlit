{
 "cells": [
  {
   "cell_type": "code",
   "execution_count": 6,
   "id": "0eaba886",
   "metadata": {},
   "outputs": [
    {
     "name": "stdout",
     "output_type": "stream",
     "text": [
      "Overwriting app.py\n"
     ]
    }
   ],
   "source": [
    "%%writefile app.py\n",
    "\n",
    "import streamlit as st\n",
    "import pandas as pd\n",
    "import numpy as np\n",
    "from PIL import Image\n",
    "\n",
    "import pickle\n",
    "model = pickle.load(open(\"final_model_iris\", \"rb\"))\n",
    "\n",
    "st.title(\"the app prediction iris flower dataset\")\n",
    "# st.success('This is a success message!')\n",
    "# st.info('This is a purely informational message')\n",
    "# st.error('This is an error')\n",
    "\n",
    "st.sidebar.header(\"User input parameter\")\n",
    "\n",
    "def user_input_data():\n",
    "\n",
    "    sepal_length=st.sidebar.slider('sepal lengrh1',4.3,7.9,5.4)\n",
    "    sepal_width=st.sidebar.slider(' sepal width',2.0,4.4,3.4)\n",
    "    petal_length=st.sidebar.slider('petal length',1.0,6.0,1.3)\n",
    "    petal_width=st.sidebar.slider('petal width ',0.1,2.5,0.2)\n",
    "    data={'sepal_length':sepal_length,\n",
    "            'sepal_width':sepal_width,\n",
    "            'petal_length':petal_length,\n",
    "            'petal_width':petal_width}\n",
    "\n",
    "    features=pd.DataFrame(data,index=[0])\n",
    "    return features\n",
    "\n",
    "input_df = user_input_data()\n",
    "\n",
    "if st.button(\"Predict\"): \n",
    "    pred = model.predict(input_df)\n",
    "    st.success(f'Prediction: {pred[0]}')"
   ]
  },
  {
   "cell_type": "code",
   "execution_count": null,
   "id": "19599a97",
   "metadata": {},
   "outputs": [],
   "source": []
  }
 ],
 "metadata": {
  "kernelspec": {
   "display_name": "Python 3 (ipykernel)",
   "language": "python",
   "name": "python3"
  },
  "language_info": {
   "codemirror_mode": {
    "name": "ipython",
    "version": 3
   },
   "file_extension": ".py",
   "mimetype": "text/x-python",
   "name": "python",
   "nbconvert_exporter": "python",
   "pygments_lexer": "ipython3",
   "version": "3.9.13"
  },
  "toc": {
   "base_numbering": 1,
   "nav_menu": {},
   "number_sections": true,
   "sideBar": true,
   "skip_h1_title": false,
   "title_cell": "Table of Contents",
   "title_sidebar": "Contents",
   "toc_cell": false,
   "toc_position": {},
   "toc_section_display": true,
   "toc_window_display": false
  }
 },
 "nbformat": 4,
 "nbformat_minor": 5
}
